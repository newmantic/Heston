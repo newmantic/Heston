{
  "nbformat": 4,
  "nbformat_minor": 0,
  "metadata": {
    "colab": {
      "provenance": [],
      "authorship_tag": "ABX9TyPwEbZvdhpjEfzUAMPGvhBD",
      "include_colab_link": true
    },
    "kernelspec": {
      "name": "python3",
      "display_name": "Python 3"
    },
    "language_info": {
      "name": "python"
    }
  },
  "cells": [
    {
      "cell_type": "markdown",
      "metadata": {
        "id": "view-in-github",
        "colab_type": "text"
      },
      "source": [
        "<a href=\"https://colab.research.google.com/github/newmantic/Heston/blob/main/Heston.ipynb\" target=\"_parent\"><img src=\"https://colab.research.google.com/assets/colab-badge.svg\" alt=\"Open In Colab\"/></a>"
      ]
    },
    {
      "cell_type": "code",
      "execution_count": 1,
      "metadata": {
        "id": "lGCehiLG9q4C"
      },
      "outputs": [],
      "source": [
        "import numpy as np\n",
        "\n",
        "def heston_simulation(S0, v0, r, kappa, theta, sigma, rho, T, N, M):\n",
        "    \"\"\"\n",
        "    Simulate asset prices using the Heston model.\n",
        "\n",
        "    Parameters:\n",
        "    - S0: Initial asset price\n",
        "    - v0: Initial variance\n",
        "    - r: Risk-free interest rate\n",
        "    - kappa: Rate of mean reversion of variance\n",
        "    - theta: Long-term mean of variance\n",
        "    - sigma: Volatility of variance (volatility of volatility)\n",
        "    - rho: Correlation between asset price and variance\n",
        "    - T: Time to maturity\n",
        "    - N: Number of time steps\n",
        "    - M: Number of simulations\n",
        "\n",
        "    Returns:\n",
        "    - S: Simulated asset prices (M x N+1 array)\n",
        "    \"\"\"\n",
        "    dt = T / N\n",
        "    S = np.zeros((M, N + 1))\n",
        "    v = np.zeros((M, N + 1))\n",
        "    S[:, 0] = S0\n",
        "    v[:, 0] = v0\n",
        "\n",
        "    for t in range(1, N + 1):\n",
        "        z1 = np.random.normal(size=M)\n",
        "        z2 = np.random.normal(size=M)\n",
        "        W1 = np.sqrt(dt) * z1\n",
        "        W2 = rho * W1 + np.sqrt(1 - rho**2) * np.sqrt(dt) * z2\n",
        "\n",
        "        v[:, t] = np.maximum(v[:, t-1] + kappa * (theta - v[:, t-1]) * dt + sigma * np.sqrt(v[:, t-1]) * W2, 0)\n",
        "        S[:, t] = S[:, t-1] * np.exp((r - 0.5 * v[:, t-1]) * dt + np.sqrt(v[:, t-1]) * W1)\n",
        "\n",
        "    return S"
      ]
    },
    {
      "cell_type": "code",
      "source": [
        "def heston_european_option_price(S0, K, r, T, S, option_type='call'):\n",
        "    \"\"\"\n",
        "    Price a European option using the Heston model simulations.\n",
        "\n",
        "    Parameters:\n",
        "    - S0: Initial asset price\n",
        "    - K: Strike price\n",
        "    - r: Risk-free interest rate\n",
        "    - T: Time to maturity\n",
        "    - S: Simulated asset prices (M x N+1 array)\n",
        "    - option_type: 'call' for call option, 'put' for put option\n",
        "\n",
        "    Returns:\n",
        "    - option_price: The price of the European option\n",
        "    \"\"\"\n",
        "    M = S.shape[0]\n",
        "    payoff = np.maximum(S[:, -1] - K, 0) if option_type == 'call' else np.maximum(K - S[:, -1], 0)\n",
        "    option_price = np.exp(-r * T) * np.mean(payoff)\n",
        "\n",
        "    return option_price"
      ],
      "metadata": {
        "id": "XQBxwini-EAk"
      },
      "execution_count": 2,
      "outputs": []
    },
    {
      "cell_type": "code",
      "source": [
        "# Parameters\n",
        "S0 = 100         # Initial asset price\n",
        "v0 = 0.04        # Initial variance (square of initial volatility, e.g., 20% volatility = 0.04 variance)\n",
        "r = 0.05         # Risk-free rate\n",
        "kappa = 2.0      # Rate of mean reversion of variance\n",
        "theta = 0.04     # Long-term mean of variance\n",
        "sigma = 0.5      # Volatility of variance (volatility of volatility)\n",
        "rho = -0.7       # Correlation between asset price and variance\n",
        "T = 1            # Time to maturity (1 year)\n",
        "N = 252          # Number of time steps (daily steps for 1 year)\n",
        "M = 10000        # Number of simulations\n",
        "K = 100          # Strike price\n",
        "\n",
        "# Simulate asset prices\n",
        "S = heston_simulation(S0, v0, r, kappa, theta, sigma, rho, T, N, M)\n",
        "\n",
        "# Price the European call option\n",
        "call_price = heston_european_option_price(S0, K, r, T, S, option_type='call')\n",
        "print(f\"Heston Model European Call Option Price: {call_price:.2f}\")"
      ],
      "metadata": {
        "colab": {
          "base_uri": "https://localhost:8080/"
        },
        "id": "rft4pCLA-G8q",
        "outputId": "e7d795a1-7d32-4fb6-97f2-1e2d66515062"
      },
      "execution_count": 3,
      "outputs": [
        {
          "output_type": "stream",
          "name": "stdout",
          "text": [
            "Heston Model European Call Option Price: 10.26\n"
          ]
        }
      ]
    }
  ]
}